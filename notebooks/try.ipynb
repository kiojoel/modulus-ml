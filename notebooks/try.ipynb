{
 "cells": [
  {
   "cell_type": "code",
   "execution_count": 1,
   "metadata": {},
   "outputs": [],
   "source": [
    "import sys\n",
    "sys.path.append('..src')\n"
   ]
  },
  {
   "cell_type": "code",
   "execution_count": 2,
   "metadata": {},
   "outputs": [],
   "source": [
    "from modulus_ml import ModelComparator"
   ]
  },
  {
   "cell_type": "code",
   "execution_count": 3,
   "metadata": {},
   "outputs": [],
   "source": [
    "from sklearn.ensemble import RandomForestClassifier\n",
    "from sklearn.linear_model import LogisticRegression\n",
    "from sklearn.datasets import make_classification"
   ]
  },
  {
   "cell_type": "code",
   "execution_count": 4,
   "metadata": {},
   "outputs": [],
   "source": [
    "# Create sample data\n",
    "X, y = make_classification(n_samples=1000, n_features=20, random_state=42)"
   ]
  },
  {
   "cell_type": "code",
   "execution_count": 5,
   "metadata": {},
   "outputs": [],
   "source": [
    "# Initialize comparator\n",
    "comparator = ModelComparator()"
   ]
  },
  {
   "cell_type": "code",
   "execution_count": 6,
   "metadata": {},
   "outputs": [],
   "source": [
    "# Add models\n",
    "comparator.add_model('logistic', LogisticRegression())\n",
    "comparator.add_model('random_forest', RandomForestClassifier())"
   ]
  },
  {
   "cell_type": "code",
   "execution_count": 7,
   "metadata": {},
   "outputs": [
    {
     "name": "stdout",
     "output_type": "stream",
     "text": [
      "compare took 12.55 seconds to execute\n"
     ]
    }
   ],
   "source": [
    "# Run comparison\n",
    "results = comparator.compare(X, y)"
   ]
  },
  {
   "cell_type": "code",
   "execution_count": 10,
   "metadata": {},
   "outputs": [
    {
     "name": "stdout",
     "output_type": "stream",
     "text": [
      "Model Comparison Summary:\n",
      "==================================================\n",
      "\n",
      "\n",
      "Model: logistic\n",
      "--------------------\n",
      "test_accuracy:\n",
      "  mean: 0.8670\n",
      "  std: 0.0258\n",
      "  min: 0.8300\n",
      "  max: 0.9000\n",
      "train_accuracy:\n",
      "  mean: 0.8793\n",
      "  std: 0.0079\n",
      "  min: 0.8712\n",
      "  max: 0.8912\n",
      "test_precision_weighted:\n",
      "  mean: 0.8675\n",
      "  std: 0.0260\n",
      "  min: 0.8300\n",
      "  max: 0.9002\n",
      "train_precision_weighted:\n",
      "  mean: 0.8794\n",
      "  std: 0.0078\n",
      "  min: 0.8714\n",
      "  max: 0.8914\n",
      "test_recall_weighted:\n",
      "  mean: 0.8670\n",
      "  std: 0.0258\n",
      "  min: 0.8300\n",
      "  max: 0.9000\n",
      "train_recall_weighted:\n",
      "  mean: 0.8793\n",
      "  std: 0.0079\n",
      "  min: 0.8712\n",
      "  max: 0.8912\n",
      "test_f1_weighted:\n",
      "  mean: 0.8670\n",
      "  std: 0.0258\n",
      "  min: 0.8300\n",
      "  max: 0.9000\n",
      "train_f1_weighted:\n",
      "  mean: 0.8792\n",
      "  std: 0.0079\n",
      "  min: 0.8712\n",
      "  max: 0.8912\n",
      "\n",
      "Model: random_forest\n",
      "--------------------\n",
      "test_accuracy:\n",
      "  mean: 0.8990\n",
      "  std: 0.0244\n",
      "  min: 0.8550\n",
      "  max: 0.9300\n",
      "train_accuracy:\n",
      "  mean: 1.0000\n",
      "  std: 0.0000\n",
      "  min: 1.0000\n",
      "  max: 1.0000\n",
      "test_precision_weighted:\n",
      "  mean: 0.9004\n",
      "  std: 0.0247\n",
      "  min: 0.8550\n",
      "  max: 0.9307\n",
      "train_precision_weighted:\n",
      "  mean: 1.0000\n",
      "  std: 0.0000\n",
      "  min: 1.0000\n",
      "  max: 1.0000\n",
      "test_recall_weighted:\n",
      "  mean: 0.8990\n",
      "  std: 0.0244\n",
      "  min: 0.8550\n",
      "  max: 0.9300\n",
      "train_recall_weighted:\n",
      "  mean: 1.0000\n",
      "  std: 0.0000\n",
      "  min: 1.0000\n",
      "  max: 1.0000\n",
      "test_f1_weighted:\n",
      "  mean: 0.8989\n",
      "  std: 0.0244\n",
      "  min: 0.8550\n",
      "  max: 0.9300\n",
      "train_f1_weighted:\n",
      "  mean: 1.0000\n",
      "  std: 0.0000\n",
      "  min: 1.0000\n",
      "  max: 1.0000\n"
     ]
    }
   ],
   "source": [
    "# Print summary\n",
    "print(comparator.summary())"
   ]
  },
  {
   "cell_type": "code",
   "execution_count": 11,
   "metadata": {},
   "outputs": [
    {
     "name": "stdout",
     "output_type": "stream",
     "text": [
      "Best model: random_forest\n"
     ]
    }
   ],
   "source": [
    "# Get best model\n",
    "best_model = comparator.get_best_model()\n",
    "print(f\"Best model: {best_model}\")"
   ]
  },
  {
   "cell_type": "code",
   "execution_count": 12,
   "metadata": {},
   "outputs": [
    {
     "data": {
      "text/plain": [
       "{'logistic': {'cv_results': {'fit_time': array([0.32379293, 0.34478045, 0.00699544, 0.00899577, 0.00599599]),\n",
       "   'score_time': array([0.05396485, 0.05996394, 0.02398491, 0.0189867 , 0.01998687]),\n",
       "   'test_accuracy': array([0.9  , 0.885, 0.875, 0.83 , 0.845]),\n",
       "   'train_accuracy': array([0.87125, 0.87125, 0.8775 , 0.89125, 0.885  ]),\n",
       "   'test_precision_weighted': array([0.90016006, 0.88534681, 0.87684655, 0.83      , 0.84531078]),\n",
       "   'train_precision_weighted': array([0.87153097, 0.87143804, 0.87765106, 0.89136986, 0.8850385 ]),\n",
       "   'test_recall_weighted': array([0.9  , 0.885, 0.875, 0.83 , 0.845]),\n",
       "   'train_recall_weighted': array([0.87125, 0.87125, 0.8775 , 0.89125, 0.885  ]),\n",
       "   'test_f1_weighted': array([0.89999   , 0.88497412, 0.87484669, 0.83      , 0.84496512]),\n",
       "   'train_f1_weighted': array([0.87122565, 0.8712337 , 0.87748775, 0.89124167, 0.88499712])},\n",
       "  'metrics': {'test_accuracy': {'mean': np.float64(0.867),\n",
       "    'std': np.float64(0.025806975801127903),\n",
       "    'min': np.float64(0.83),\n",
       "    'max': np.float64(0.9)},\n",
       "   'train_accuracy': {'mean': np.float64(0.8792500000000001),\n",
       "    'std': np.float64(0.007850159234053803),\n",
       "    'min': np.float64(0.87125),\n",
       "    'max': np.float64(0.89125)},\n",
       "   'test_precision_weighted': {'mean': np.float64(0.8675328407887758),\n",
       "    'std': np.float64(0.025965949053974858),\n",
       "    'min': np.float64(0.83),\n",
       "    'max': np.float64(0.9001600640256103)},\n",
       "   'train_precision_weighted': {'mean': np.float64(0.8794056864195122),\n",
       "    'std': np.float64(0.007790292139738342),\n",
       "    'min': np.float64(0.8714380405080072),\n",
       "    'max': np.float64(0.891369857018712)},\n",
       "   'test_recall_weighted': {'mean': np.float64(0.867),\n",
       "    'std': np.float64(0.025806975801127903),\n",
       "    'min': np.float64(0.83),\n",
       "    'max': np.float64(0.9)},\n",
       "   'train_recall_weighted': {'mean': np.float64(0.8792500000000001),\n",
       "    'std': np.float64(0.007850159234053803),\n",
       "    'min': np.float64(0.87125),\n",
       "    'max': np.float64(0.89125)},\n",
       "   'test_f1_weighted': {'mean': np.float64(0.8669551845039768),\n",
       "    'std': np.float64(0.025797308053716644),\n",
       "    'min': np.float64(0.83),\n",
       "    'max': np.float64(0.8999899989999)},\n",
       "   'train_f1_weighted': {'mean': np.float64(0.8792371807018551),\n",
       "    'std': np.float64(0.007856023562162499),\n",
       "    'min': np.float64(0.8712256536001337),\n",
       "    'max': np.float64(0.8912416731906037)},\n",
       "   'model': 'logistic'}},\n",
       " 'random_forest': {'cv_results': {'fit_time': array([1.2867136 , 1.12981009, 1.03136349, 1.10631919, 0.91043997]),\n",
       "   'score_time': array([0.06096125, 0.06496048, 0.04397607, 0.08394933, 0.04097557]),\n",
       "   'test_accuracy': array([0.93 , 0.905, 0.9  , 0.905, 0.855]),\n",
       "   'train_accuracy': array([1., 1., 1., 1., 1.]),\n",
       "   'test_precision_weighted': array([0.9306891 , 0.9050405 , 0.90584416, 0.90536483, 0.8550355 ]),\n",
       "   'train_precision_weighted': array([1., 1., 1., 1., 1.]),\n",
       "   'test_recall_weighted': array([0.93 , 0.905, 0.9  , 0.905, 0.855]),\n",
       "   'train_recall_weighted': array([1., 1., 1., 1., 1.]),\n",
       "   'test_f1_weighted': array([0.92997199, 0.90499762, 0.8996387 , 0.90497862, 0.85499637]),\n",
       "   'train_f1_weighted': array([1., 1., 1., 1., 1.])},\n",
       "  'metrics': {'test_accuracy': {'mean': np.float64(0.8989999999999998),\n",
       "    'std': np.float64(0.024372115213907905),\n",
       "    'min': np.float64(0.855),\n",
       "    'max': np.float64(0.93)},\n",
       "   'train_accuracy': {'mean': np.float64(1.0),\n",
       "    'std': np.float64(0.0),\n",
       "    'min': np.float64(1.0),\n",
       "    'max': np.float64(1.0)},\n",
       "   'test_precision_weighted': {'mean': np.float64(0.9003948188709059),\n",
       "    'std': np.float64(0.024702994835629776),\n",
       "    'min': np.float64(0.855035503550355),\n",
       "    'max': np.float64(0.9306891025641025)},\n",
       "   'train_precision_weighted': {'mean': np.float64(1.0),\n",
       "    'std': np.float64(0.0),\n",
       "    'min': np.float64(1.0),\n",
       "    'max': np.float64(1.0)},\n",
       "   'test_recall_weighted': {'mean': np.float64(0.8989999999999998),\n",
       "    'std': np.float64(0.024372115213907905),\n",
       "    'min': np.float64(0.855),\n",
       "    'max': np.float64(0.93)},\n",
       "   'train_recall_weighted': {'mean': np.float64(1.0),\n",
       "    'std': np.float64(0.0),\n",
       "    'min': np.float64(1.0),\n",
       "    'max': np.float64(1.0)},\n",
       "   'test_f1_weighted': {'mean': np.float64(0.8989166616305202),\n",
       "    'std': np.float64(0.024362560316044304),\n",
       "    'min': np.float64(0.8549963749093727),\n",
       "    'max': np.float64(0.9299719887955183)},\n",
       "   'train_f1_weighted': {'mean': np.float64(1.0),\n",
       "    'std': np.float64(0.0),\n",
       "    'min': np.float64(1.0),\n",
       "    'max': np.float64(1.0)},\n",
       "   'model': 'random_forest'}}}"
      ]
     },
     "execution_count": 12,
     "metadata": {},
     "output_type": "execute_result"
    }
   ],
   "source": [
    "comparator.get_detailed_results()"
   ]
  },
  {
   "cell_type": "code",
   "execution_count": null,
   "metadata": {},
   "outputs": [],
   "source": []
  }
 ],
 "metadata": {
  "kernelspec": {
   "display_name": "venv",
   "language": "python",
   "name": "python3"
  },
  "language_info": {
   "codemirror_mode": {
    "name": "ipython",
    "version": 3
   },
   "file_extension": ".py",
   "mimetype": "text/x-python",
   "name": "python",
   "nbconvert_exporter": "python",
   "pygments_lexer": "ipython3",
   "version": "3.10.0"
  }
 },
 "nbformat": 4,
 "nbformat_minor": 2
}
